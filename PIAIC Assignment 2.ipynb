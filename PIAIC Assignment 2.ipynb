{
 "cells": [
  {
   "cell_type": "markdown",
   "metadata": {},
   "source": [
    "# To do list"
   ]
  },
  {
   "cell_type": "code",
   "execution_count": null,
   "metadata": {},
   "outputs": [
    {
     "name": "stdout",
     "output_type": "stream",
     "text": [
      "To do list \n",
      "\n",
      "1: Taking Breakfast\n",
      "2: Meeting with boss\n",
      "3: Call Ali\n",
      "4: Medical Checkup\n",
      "5: Get together with friend\n",
      "6: Lunch on subway\n",
      "7: Tea with family\n",
      "8: office assignment\n",
      "9: Sleep\n",
      "Enter the task you want to do now = Sleep\n",
      "Enter the task you want to do now = slee\n",
      "The entered task is not in the list\n"
     ]
    }
   ],
   "source": [
    "tasks = [\"Taking Breakfast\",\"Meeting with boss\",\"Call Ali\",\"Medical Checkup\",\"Get together with friend\",\"Lunch on subway\",\n",
    "         \"Tea with family\",\"office assignment\",\"Sleep\"]\n",
    "task_completed = []\n",
    "\n",
    "y=1\n",
    "print(\"To do list \\n\")\n",
    "for x in tasks:\n",
    "    print(f\"{y}: {x}\")\n",
    "    y+=1\n",
    "    \n",
    "while len(tasks)!=0:\n",
    "    action = input(\"Enter the task you want to do now = \")\n",
    "    if action in tasks:\n",
    "        task_done = tasks.index(action)\n",
    "        task_completed.append(tasks.pop(task_done))\n",
    "    else:\n",
    "        print(\"The entered task is not in the list\")\n",
    "        \n",
    "print(\"All tasks are completed\")"
   ]
  },
  {
   "cell_type": "code",
   "execution_count": null,
   "metadata": {},
   "outputs": [],
   "source": []
  }
 ],
 "metadata": {
  "kernelspec": {
   "display_name": "Python 3",
   "language": "python",
   "name": "python3"
  },
  "language_info": {
   "codemirror_mode": {
    "name": "ipython",
    "version": 3
   },
   "file_extension": ".py",
   "mimetype": "text/x-python",
   "name": "python",
   "nbconvert_exporter": "python",
   "pygments_lexer": "ipython3",
   "version": "3.7.3"
  }
 },
 "nbformat": 4,
 "nbformat_minor": 2
}
